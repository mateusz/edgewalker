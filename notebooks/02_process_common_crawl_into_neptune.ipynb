{
 "cells": [
  {
   "cell_type": "code",
   "execution_count": null,
   "metadata": {
    "vscode": {
     "languageId": "python"
    }
   },
   "outputs": [],
   "source": [
    "%profile glue\n",
    "%idle_timeout 2880\n",
    "%glue_version 4.0\n",
    "%worker_type G.1X\n",
    "%number_of_workers 2\n",
    "%list_sessions\n",
    "%status\n",
    "%connections ew_graph-ewtest-dev-neptune\n",
    "%%configure\n",
    "{\n",
    "  \"--session-language\": \"python\",\n",
    "  \"--job-language\": \"python\",\n",
    "  \"--continuous-log-logGroup\": \"ew_graph-ewtest-dev-job_vertices\",\n",
    "  \"--enable-continuous-cloudwatch-log\": \"true\",\n",
    "  \"--enable-continuous-log-filter\" : \"true\",\n",
    "  \"--enable-metrics\": \"\",\n",
    "  \"--additional-python-modules\": \"awswrangler==3.9.1,SPARQLWrapper==2.0.0,requests==2.32.3\"\n",
    "}\n"
   ]
  },
  {
   "cell_type": "code",
   "execution_count": null,
   "metadata": {
    "vscode": {
     "languageId": "python"
    }
   },
   "outputs": [],
   "source": [
    "%reconnect bd2061c5-575b-42f4-9808-914cd4121720"
   ]
  },
  {
   "cell_type": "code",
   "execution_count": null,
   "metadata": {
    "vscode": {
     "languageId": "python"
    }
   },
   "outputs": [],
   "source": [
    "\n",
    "import sys\n",
    "from awsglue.transforms import *\n",
    "from awsglue.utils import getResolvedOptions\n",
    "from pyspark.context import SparkContext\n",
    "from awsglue.context import GlueContext\n",
    "from awsglue.job import Job\n",
    "\n",
    "sc = SparkContext.getOrCreate()\n",
    "glueContext = GlueContext(sc)\n",
    "spark = glueContext.spark_session\n",
    "job = Job(glueContext)\n"
   ]
  },
  {
   "cell_type": "code",
   "execution_count": null,
   "metadata": {
    "vscode": {
     "languageId": "python"
    }
   },
   "outputs": [],
   "source": [
    "import boto3\n",
    "from io import BytesIO\n",
    "import gzip\n",
    "import awswrangler as wr"
   ]
  },
  {
   "cell_type": "code",
   "execution_count": null,
   "metadata": {
    "vscode": {
     "languageId": "python"
    }
   },
   "outputs": [],
   "source": [
    "\n",
    "s3_client = boto3.client('s3', 'us-east-1')\n",
    "objs = s3_client.list_objects(\n",
    "    Bucket='commoncrawl',\n",
    "    Prefix='projects/hyperlinkgraph/cc-main-2024-jun-jul-aug/host/vertices'\n",
    ")\n",
    "for o in objs['Contents']:\n",
    "    print(o['Key'])\n"
   ]
  },
  {
   "cell_type": "code",
   "execution_count": null,
   "metadata": {
    "vscode": {
     "languageId": "python"
    }
   },
   "outputs": [],
   "source": [
    "# Around 20s on one vertex file\n",
    "s3_client.upload_fileobj(\n",
    "  Fileobj=gzip.GzipFile(\n",
    "      None,\n",
    "      'rb',\n",
    "      fileobj=BytesIO(s3_client.get_object(Bucket=\"commoncrawl\", Key=\"projects/hyperlinkgraph/cc-main-2024-jun-jul-aug/host/vertices/part-00000-3095dbcf-098e-45c9-a3a7-70c1b93b80fa-c000.txt.gz\")['Body'].read())),\n",
    "  Bucket=\"edgewalker-dev-ew-graph-ewtest-dev-working\",\n",
    "  Key=\"job_vertices/original_dataset/vertices/part-00000-3095dbcf-098e-45c9-a3a7-70c1b93b80fa-c000.txt\"\n",
    ")"
   ]
  },
  {
   "cell_type": "code",
   "execution_count": null,
   "metadata": {
    "vscode": {
     "languageId": "python"
    }
   },
   "outputs": [],
   "source": [
    "# CSV is better than grok - 2s vs 2 minutes\n",
    "df = glueContext.create_dynamic_frame_from_options(\n",
    "    connection_type=\"s3\",\n",
    "    connection_options={\n",
    "        # \"compressionType\": \"gzip\", # This makes the job very slow\n",
    "        \"paths\": [\"s3://edgewalker-dev-ew-graph-ewtest-dev-working/job_vertices/original_dataset/vertices/part-00000-3095dbcf-098e-45c9-a3a7-70c1b93b80fa-c000.txt\"],\n",
    "    },\n",
    "    format=\"csv\",\n",
    "    format_options={\"separator\": \"\\t\"},\n",
    "    # format=\"grokLog\", # This also makes the job very slow\n",
    "    # format_options={\"logFormat\": \"%{INT:id}\\t%{GREEDYDATA:domain}\"},\n",
    ").rename_field('col0', '~id').rename_field('col1', '~label')\n",
    "\n",
    "df.show(10)"
   ]
  },
  {
   "cell_type": "code",
   "execution_count": null,
   "metadata": {
    "vscode": {
     "languageId": "python"
    }
   },
   "outputs": [],
   "source": [
    "# 3 min\n",
    "filtered_df = df.filter(\n",
    "  f=lambda x: x[\"~label\"].endswith(\".nz\")\n",
    ")\n",
    "filtered_df.show(10)"
   ]
  },
  {
   "cell_type": "code",
   "execution_count": null,
   "metadata": {
    "vscode": {
     "languageId": "python"
    }
   },
   "outputs": [],
   "source": [
    "# ~4mins\n",
    "filtered_df.write(\n",
    "    connection_type=\"s3\",\n",
    "    connection_options={\n",
    "        \"path\": \"s3://edgewalker-dev-ew-graph-ewtest-dev-working/job_vertices/nz_vertices\",\n",
    "    },\n",
    "    format=\"parquet\",\n",
    ")\n",
    "\n",
    "# Alt processing using spark\n",
    "# df.toDF()\n",
    "# df.write.parquet('s3://edgewalker-dev-ew-graph-ewtest-dev-working/job_vertices/nz_vertices')"
   ]
  },
  {
   "cell_type": "code",
   "execution_count": null,
   "metadata": {
    "vscode": {
     "languageId": "python"
    }
   },
   "outputs": [],
   "source": [
    "client = wr.neptune.connect(\"ew-graph-ewtest-dev.cluster-c9v5npv1veav.us-east-1.neptune.amazonaws.com\", 8182)\n",
    "\n",
    "wr.neptune.bulk_load_from_files(\n",
    "    client=client,\n",
    "    path=\"s3://edgewalker-dev-ew-graph-ewtest-dev-working/job_vertices/nz_vertices\",\n",
    "    format=\"parquet\",\n",
    "    iam_role=\"arn:aws:iam::400678530796:role/ew_graph-ewtest-dev-job_vertices\",\n",
    ")"
   ]
  },
  {
   "cell_type": "markdown",
   "metadata": {},
   "source": []
  }
 ],
 "metadata": {
  "kernelspec": {
   "display_name": "Glue PySpark",
   "language": "python",
   "name": "glue_pyspark_edgewalker"
  },
  "language_info": {
   "codemirror_mode": {
    "name": "python",
    "version": 3
   },
   "file_extension": ".py",
   "mimetype": "text/x-python",
   "name": "Python_Glue_Session",
   "pygments_lexer": "python3"
  }
 },
 "nbformat": 4,
 "nbformat_minor": 2
}
