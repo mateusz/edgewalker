{
 "cells": [
  {
   "cell_type": "code",
   "execution_count": null,
   "metadata": {
    "vscode": {
     "languageId": "python"
    }
   },
   "outputs": [],
   "source": [
    "# Get the values below from the CDK deploy output.\n",
    "%profile glue\n",
    "%idle_timeout 2880\n",
    "%glue_version 4.0\n",
    "%worker_type Standard\n",
    "%number_of_workers 1\n",
    "%list_sessions\n",
    "%status\n",
    "%connections EwstackGlueConnectionAB87C2-HuJWcj6VPADi\n",
    "%iam_role arn:aws:iam::400678530796:role/ew-edgewalker-dev-JobVerticesGlueRole1B693BCC-3MmteKZOfrjg\n",
    "%%configure\n",
    "{\n",
    "  \"--session-language\": \"python\",\n",
    "  \"--job-language\": \"python\",\n",
    "  \"--continuous-log-logGroup\": \"ew-edgewalker-dev-JobVerticesJobVerticesjobvertices95F1CA39-8RrrssSeE6mH\",\n",
    "  \"--enable-continuous-cloudwatch-log\": \"true\",\n",
    "  \"--enable-continuous-log-filter\" : \"true\",\n",
    "  #\"--enable-metrics\": \"\",\n",
    "  \"--additional-python-modules\": \"awswrangler==3.9.1,awswrangler[gremlin],SPARQLWrapper,requests\"\n",
    "}"
   ]
  },
  {
   "cell_type": "code",
   "execution_count": null,
   "metadata": {
    "vscode": {
     "languageId": "python"
    }
   },
   "outputs": [],
   "source": [
    "%reconnect 628c0a85-2f98-44d4-9523-8ece03d3781d"
   ]
  },
  {
   "cell_type": "code",
   "execution_count": null,
   "metadata": {
    "vscode": {
     "languageId": "python"
    }
   },
   "outputs": [],
   "source": [
    "%stop_session"
   ]
  },
  {
   "cell_type": "code",
   "execution_count": null,
   "metadata": {
    "vscode": {
     "languageId": "python"
    }
   },
   "outputs": [],
   "source": [
    "work_bucket = \"ew-edgewalker-dev-workbucketf885502b-cibicr8xgwo0\"\n",
    "neptune_hostname = \"neptunedbcluster-aa9odmqjepom.cluster-c9v5npv1veav.us-east-1.neptune.amazonaws.com\"\n",
    "neptune_role = \"arn:aws:iam::400678530796:role/ew-edgewalker-dev-CommonCrawlNeptuneRole25077696-8NhOKWP86bRN\""
   ]
  },
  {
   "cell_type": "code",
   "execution_count": null,
   "metadata": {
    "vscode": {
     "languageId": "python"
    }
   },
   "outputs": [],
   "source": [
    "import boto3\n",
    "import awswrangler as wr"
   ]
  },
  {
   "cell_type": "code",
   "execution_count": null,
   "metadata": {
    "vscode": {
     "languageId": "python"
    }
   },
   "outputs": [],
   "source": [
    "s3_client = boto3.client('s3', 'us-east-1')\n",
    "objs = s3_client.list_objects(\n",
    "    Bucket='commoncrawl',\n",
    "    Prefix='projects/hyperlinkgraph/cc-main-2024-jun-jul-aug/host/vertices'\n",
    ")\n",
    "for o in objs['Contents']:\n",
    "    print(o['Key'])\n"
   ]
  },
  {
   "cell_type": "code",
   "execution_count": null,
   "metadata": {
    "vscode": {
     "languageId": "python"
    }
   },
   "outputs": [],
   "source": [
    "wrdf = wr.s3.read_csv(\n",
    "  path='s3://commoncrawl/projects/hyperlinkgraph/cc-main-2024-jun-jul-aug/host/vertices/part-00000-3095dbcf-098e-45c9-a3a7-70c1b93b80fa-c000.txt.gz',\n",
    "  sep=\"\\t\"\n",
    ")\n",
    "wrdf.columns=[\"~id\", \"~label\"]\n",
    "wrdf"
   ]
  },
  {
   "cell_type": "code",
   "execution_count": null,
   "metadata": {
    "vscode": {
     "languageId": "python"
    }
   },
   "outputs": [],
   "source": [
    "filtered_wrdf = wrdf[wrdf[\"~label\"].str.endswith('.nz')]\n",
    "filtered_wrdf"
   ]
  },
  {
   "cell_type": "code",
   "execution_count": null,
   "metadata": {
    "vscode": {
     "languageId": "python"
    }
   },
   "outputs": [],
   "source": [
    "client = wr.neptune.connect(neptune_hostname, 8182, iam_enabled=True)\n",
    "# Note this results in Exception ignored ... AttributeError: module 'awswrangler.neptune._gremlin_init' has no attribute 'Client'\n",
    "# But the data is nevertheless loaded.\n",
    "wr.neptune.bulk_load(\n",
    "    client=client,\n",
    "    df=filtered_wrdf,\n",
    "    path=f\"s3://{work_bucket}/neptune_upload/\",\n",
    "    iam_role=neptune_role,\n",
    ")\n",
    "print(wr.neptune.execute_gremlin(client, \"g.V().limit(10)\"))"
   ]
  },
  {
   "cell_type": "code",
   "execution_count": null,
   "metadata": {
    "vscode": {
     "languageId": "python"
    }
   },
   "outputs": [],
   "source": [
    "# If you want to retry loading\n",
    "print(wr.neptune.execute_gremlin(client, \"g.V().drop().iterate()\"))\n",
    "print(wr.neptune.execute_gremlin(client, \"g.V().limit(10)\"))"
   ]
  },
  {
   "cell_type": "markdown",
   "metadata": {},
   "source": []
  }
 ],
 "metadata": {
  "kernelspec": {
   "display_name": "Glue PySpark",
   "language": "python",
   "name": "glue_pyspark_edgewalker"
  },
  "language_info": {
   "codemirror_mode": {
    "name": "python",
    "version": 3
   },
   "file_extension": ".py",
   "mimetype": "text/x-python",
   "name": "Python_Glue_Session",
   "pygments_lexer": "python3"
  }
 },
 "nbformat": 4,
 "nbformat_minor": 2
}
